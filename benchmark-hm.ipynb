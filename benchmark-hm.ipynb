{
 "cells": [
  {
   "cell_type": "code",
   "execution_count": null,
   "metadata": {},
   "outputs": [],
   "source": [
    "variable = \"2m_temperature\"\n",
    "start_datetime = \"2000-01-01 01:00:00\"\n",
    "end_datetime = \"2023-12-31 22:00:00\"\n",
    "# Greenland\n",
    "max_lat = 85\n",
    "min_lat = 60\n",
    "min_lon = -70\n",
    "max_lon = -10\n",
    "\n",
    "from query import get_mean_heatmap"
   ]
  },
  {
   "cell_type": "code",
   "execution_count": null,
   "metadata": {},
   "outputs": [],
   "source": [
    "%%timeit\n",
    "\n",
    "# Alaska\n",
    "max_lat = 75\n",
    "min_lat = 50\n",
    "min_lon = -170\n",
    "max_lon = -140\n",
    "\n",
    "print((max_lat-min_lat)/180*(max_lon-min_lon)/360)\n",
    "\n",
    "hm = get_mean_heatmap(\n",
    "    variable=variable,\n",
    "    start_datetime=start_datetime,\n",
    "    end_datetime=end_datetime,\n",
    "    min_lat=min_lat,\n",
    "    max_lat=max_lat,\n",
    "    min_lon=min_lon,\n",
    "    max_lon=max_lon,\n",
    ")\n",
    "hm"
   ]
  },
  {
   "cell_type": "code",
   "execution_count": null,
   "metadata": {},
   "outputs": [],
   "source": [
    "%%timeit\n",
    "\n",
    "# Greenland\n",
    "max_lat = 85\n",
    "min_lat = 60\n",
    "min_lon = -70\n",
    "max_lon = -10\n",
    "\n",
    "print((max_lat-min_lat)/180*(max_lon-min_lon)/360)\n",
    "\n",
    "hm = get_mean_heatmap(\n",
    "    variable=variable,\n",
    "    start_datetime=start_datetime,\n",
    "    end_datetime=end_datetime,\n",
    "    min_lat=min_lat,\n",
    "    max_lat=max_lat,\n",
    "    min_lon=min_lon,\n",
    "    max_lon=max_lon,\n",
    ")\n",
    "hm"
   ]
  },
  {
   "cell_type": "code",
   "execution_count": null,
   "metadata": {},
   "outputs": [],
   "source": [
    "%%timeit\n",
    "\n",
    "# 10% space\n",
    "max_lat = 81\n",
    "min_lat = 0\n",
    "min_lon = 0\n",
    "max_lon = 80\n",
    "\n",
    "print((max_lat-min_lat)/180*(max_lon-min_lon)/360)\n",
    "\n",
    "hm = get_mean_heatmap(\n",
    "    variable=variable,\n",
    "    start_datetime=start_datetime,\n",
    "    end_datetime=end_datetime,\n",
    "    min_lat=min_lat,\n",
    "    max_lat=max_lat,\n",
    "    min_lon=min_lon,\n",
    "    max_lon=max_lon,\n",
    ")\n",
    "hm"
   ]
  },
  {
   "cell_type": "code",
   "execution_count": null,
   "metadata": {},
   "outputs": [],
   "source": [
    "%%timeit\n",
    "\n",
    "# 20% space\n",
    "max_lat = 80\n",
    "min_lat = -13\n",
    "min_lon = 0\n",
    "max_lon = 140\n",
    "\n",
    "print((max_lat-min_lat)/180*(max_lon-min_lon)/360)\n",
    "\n",
    "hm = get_mean_heatmap(\n",
    "    variable=variable,\n",
    "    start_datetime=start_datetime,\n",
    "    end_datetime=end_datetime,\n",
    "    min_lat=min_lat,\n",
    "    max_lat=max_lat,\n",
    "    min_lon=min_lon,\n",
    "    max_lon=max_lon,\n",
    ")\n",
    "hm"
   ]
  },
  {
   "cell_type": "code",
   "execution_count": null,
   "metadata": {},
   "outputs": [],
   "source": [
    "# hm['t2m'].plot()"
   ]
  },
  {
   "cell_type": "code",
   "execution_count": null,
   "metadata": {},
   "outputs": [],
   "source": []
  }
 ],
 "metadata": {
  "kernelspec": {
   "display_name": "venv",
   "language": "python",
   "name": "python3"
  },
  "language_info": {
   "codemirror_mode": {
    "name": "ipython",
    "version": 3
   },
   "file_extension": ".py",
   "mimetype": "text/x-python",
   "name": "python",
   "nbconvert_exporter": "python",
   "pygments_lexer": "ipython3",
   "version": "3.11.9"
  }
 },
 "nbformat": 4,
 "nbformat_minor": 2
}
