{
 "cells": [
  {
   "cell_type": "markdown",
   "metadata": {},
   "source": [
    "# NetCDF to tiledb"
   ]
  },
  {
   "cell_type": "markdown",
   "metadata": {},
   "source": [
    "1. use dask.array.to_tiledb()"
   ]
  },
  {
   "cell_type": "code",
   "execution_count": null,
   "metadata": {},
   "outputs": [],
   "source": [
    "import xarray as xr\n",
    "\n",
    "ds = xr.open_dataset('/data/era5/raw/2m_temperature/2m_temperature-1985.nc')\n",
    "chunked = ds.chunk({\"time\": 24*10})\n",
    "uri = 'data/tiledb/2m_temperature_1985'\n",
    "chunked['t2m'].data.to_tiledb(uri)"
   ]
  },
  {
   "cell_type": "markdown",
   "metadata": {},
   "source": [
    "2. use tiledb.cf.NetCDF4ConverterEngine"
   ]
  },
  {
   "cell_type": "code",
   "execution_count": null,
   "metadata": {},
   "outputs": [],
   "source": [
    "# use tiledb.cf\n",
    "import tiledb\n",
    "import tiledb.cf\n",
    "import numpy as np\n",
    "\n",
    "netcdf_file = \"/data/era5/raw/2m_temperature/2m_temperature-1985.nc\"\n",
    "group_uri = \"data/tiledb/2m_temperature_1985_group\"\n",
    "\n",
    "# Auto-generate NetCDF to TileDB conversion from a NetCDF file.\n",
    "converter = tiledb.cf.NetCDF4ConverterEngine.from_file(\n",
    "    netcdf_file,\n",
    "    # dim_dtype=np.uint16,\n",
    ")\n",
    "converter"
   ]
  },
  {
   "cell_type": "code",
   "execution_count": null,
   "metadata": {},
   "outputs": [],
   "source": [
    "array_time = converter.get_array_creator_by_attr(\"time.data\")\n",
    "array_time.name = \"time\"\n",
    "array_lat = converter.get_array_creator_by_attr(\"latitude.data\")\n",
    "array_lat.name = \"latitude\"\n",
    "array_lon = converter.get_array_creator_by_attr(\"longitude.data\")\n",
    "array_lon.name = \"longitude\"\n",
    "array_t2m = converter.get_array_creator_by_attr(\"t2m\")\n",
    "array_t2m.name = \"t2m\"\n",
    "# array_temp.domain_creator.tiles = (500, 500, 500)\n",
    "array_t2m.domain_creator.tiles = (31*24, 721, 1440)\n",
    "converter.convert_to_group(group_uri)"
   ]
  },
  {
   "cell_type": "markdown",
   "metadata": {},
   "source": [
    "# Tiledb Query"
   ]
  },
  {
   "cell_type": "code",
   "execution_count": null,
   "metadata": {},
   "outputs": [],
   "source": [
    "import tiledb"
   ]
  },
  {
   "cell_type": "code",
   "execution_count": null,
   "metadata": {},
   "outputs": [],
   "source": [
    "with tiledb.open(f'{group_uri}/t2m') as A:\n",
    "    # print(A.schema)\n",
    "    print(A[:, 0, 0]['t2m'].shape)"
   ]
  },
  {
   "cell_type": "code",
   "execution_count": null,
   "metadata": {},
   "outputs": [],
   "source": [
    "uri = 'data/tiledb/2m_temperature_1985'\n",
    "A = tiledb.open(uri)\n",
    "# q = A.query(attrs=(A.attr(0).name,), coords=True)\n",
    "# q = A.query(cond=\"attr('')>265\", coords=True)\n",
    "# q[:]"
   ]
  },
  {
   "cell_type": "code",
   "execution_count": null,
   "metadata": {},
   "outputs": [],
   "source": [
    "attr_t2m = A.attr(0)"
   ]
  },
  {
   "cell_type": "code",
   "execution_count": null,
   "metadata": {},
   "outputs": [],
   "source": [
    "attr_t2m.name"
   ]
  },
  {
   "cell_type": "code",
   "execution_count": null,
   "metadata": {},
   "outputs": [],
   "source": [
    "q = A.query(cond=f\"attr('')>264\")"
   ]
  },
  {
   "cell_type": "code",
   "execution_count": null,
   "metadata": {},
   "outputs": [],
   "source": [
    "q[0].shape"
   ]
  },
  {
   "cell_type": "code",
   "execution_count": null,
   "metadata": {},
   "outputs": [],
   "source": [
    "A.close()"
   ]
  },
  {
   "cell_type": "markdown",
   "metadata": {},
   "source": [
    "3. read via dask.array.from_tiledb()"
   ]
  },
  {
   "cell_type": "code",
   "execution_count": null,
   "metadata": {},
   "outputs": [],
   "source": [
    "import dask.array as da\n",
    "uri = 'data/tiledb/2m_temperature_1985'\n",
    "tdb_ar = da.from_tiledb(uri)"
   ]
  },
  {
   "cell_type": "code",
   "execution_count": null,
   "metadata": {},
   "outputs": [],
   "source": []
  },
  {
   "cell_type": "code",
   "execution_count": null,
   "metadata": {},
   "outputs": [],
   "source": []
  }
 ],
 "metadata": {
  "kernelspec": {
   "display_name": "venv",
   "language": "python",
   "name": "python3"
  },
  "language_info": {
   "codemirror_mode": {
    "name": "ipython",
    "version": 3
   },
   "file_extension": ".py",
   "mimetype": "text/x-python",
   "name": "python",
   "nbconvert_exporter": "python",
   "pygments_lexer": "ipython3",
   "version": "3.11.9"
  }
 },
 "nbformat": 4,
 "nbformat_minor": 2
}
