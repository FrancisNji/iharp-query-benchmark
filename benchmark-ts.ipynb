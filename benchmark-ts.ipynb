{
 "cells": [
  {
   "cell_type": "code",
   "execution_count": null,
   "metadata": {},
   "outputs": [],
   "source": [
    "variable = \"2m_temperature\"\n",
    "start_datetime = \"2000-01-01 00:00:00\"\n",
    "end_datetime = \"2023-12-31 23:00:00\"\n",
    "\n",
    "time_agg_method = \"mean\"\n",
    "time_series_aggregation_method = \"mean\"\n",
    "\n",
    "from query import get_timeseries"
   ]
  },
  {
   "cell_type": "code",
   "execution_count": null,
   "metadata": {},
   "outputs": [],
   "source": [
    "# %%timeit\n",
    "\n",
    "# Greenland\n",
    "max_lat = 85\n",
    "min_lat = 60\n",
    "min_lon = -70\n",
    "max_lon = -10\n",
    "time_resolution = \"year\"\n",
    "\n",
    "print((max_lat-min_lat)/180*(max_lon-min_lon)/360)\n",
    "\n",
    "ts = get_timeseries(\n",
    "    variable=variable,\n",
    "    start_datetime=start_datetime,\n",
    "    end_datetime=end_datetime,\n",
    "    time_resolution=time_resolution,\n",
    "    time_agg_method=time_agg_method,\n",
    "    min_lat=min_lat,\n",
    "    max_lat=max_lat,\n",
    "    min_lon=min_lon,\n",
    "    max_lon=max_lon,\n",
    "    time_series_aggregation_method=time_series_aggregation_method,\n",
    ")\n",
    "ts"
   ]
  },
  {
   "cell_type": "code",
   "execution_count": null,
   "metadata": {},
   "outputs": [],
   "source": [
    "# ts['t2m'].plot()"
   ]
  },
  {
   "cell_type": "code",
   "execution_count": null,
   "metadata": {},
   "outputs": [],
   "source": [
    "# %%time\n",
    "\n",
    "# Alaska\n",
    "max_lat = 75\n",
    "min_lat = 50\n",
    "min_lon = -170\n",
    "max_lon = -140\n",
    "time_resolution = \"hour\"\n",
    "\n",
    "print((max_lat-min_lat)/180*(max_lon-min_lon)/360)\n",
    "\n",
    "ts = get_timeseries(\n",
    "    variable=variable,\n",
    "    start_datetime=start_datetime,\n",
    "    end_datetime=end_datetime,\n",
    "    time_resolution=time_resolution,\n",
    "    time_agg_method=time_agg_method,\n",
    "    min_lat=min_lat,\n",
    "    max_lat=max_lat,\n",
    "    min_lon=min_lon,\n",
    "    max_lon=max_lon,\n",
    "    time_series_aggregation_method=time_series_aggregation_method,\n",
    ")\n",
    "ts"
   ]
  },
  {
   "cell_type": "code",
   "execution_count": null,
   "metadata": {},
   "outputs": [],
   "source": [
    "%%timeit\n",
    "\n",
    "# 10% space\n",
    "max_lat = 81\n",
    "min_lat = 0\n",
    "min_lon = 0\n",
    "max_lon = 80\n",
    "time_resolution = \"day\"\n",
    "\n",
    "print((max_lat-min_lat)/180*(max_lon-min_lon)/360)\n",
    "\n",
    "ts = get_timeseries(\n",
    "    variable=variable,\n",
    "    start_datetime=start_datetime,\n",
    "    end_datetime=end_datetime,\n",
    "    time_resolution=time_resolution,\n",
    "    time_agg_method=time_agg_method,\n",
    "    min_lat=min_lat,\n",
    "    max_lat=max_lat,\n",
    "    min_lon=min_lon,\n",
    "    max_lon=max_lon,\n",
    "    time_series_aggregation_method=time_series_aggregation_method,\n",
    ")\n",
    "ts"
   ]
  },
  {
   "cell_type": "code",
   "execution_count": null,
   "metadata": {},
   "outputs": [],
   "source": [
    "%%timeit\n",
    "\n",
    "# 20% space\n",
    "max_lat = 80\n",
    "min_lat = -13\n",
    "min_lon = 0\n",
    "max_lon = 140\n",
    "time_resolution = \"day\"\n",
    "\n",
    "print((max_lat-min_lat)/180*(max_lon-min_lon)/360)\n",
    "\n",
    "ts = get_timeseries(\n",
    "    variable=variable,\n",
    "    start_datetime=start_datetime,\n",
    "    end_datetime=end_datetime,\n",
    "    time_resolution=time_resolution,\n",
    "    time_agg_method=time_agg_method,\n",
    "    min_lat=min_lat,\n",
    "    max_lat=max_lat,\n",
    "    min_lon=min_lon,\n",
    "    max_lon=max_lon,\n",
    "    time_series_aggregation_method=time_series_aggregation_method,\n",
    ")\n",
    "ts"
   ]
  },
  {
   "cell_type": "code",
   "execution_count": null,
   "metadata": {},
   "outputs": [],
   "source": []
  }
 ],
 "metadata": {
  "kernelspec": {
   "display_name": "venv",
   "language": "python",
   "name": "python3"
  },
  "language_info": {
   "codemirror_mode": {
    "name": "ipython",
    "version": 3
   },
   "file_extension": ".py",
   "mimetype": "text/x-python",
   "name": "python",
   "nbconvert_exporter": "python",
   "pygments_lexer": "ipython3",
   "version": "3.11.9"
  }
 },
 "nbformat": 4,
 "nbformat_minor": 2
}
